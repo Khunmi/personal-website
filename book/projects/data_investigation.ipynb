{
 "cells": [
  {
   "cell_type": "markdown",
   "metadata": {},
   "source": [
    "# Exploratory Data Analysis(EDA)\n",
    "\n",
    "[![Open In Colab](https://colab.research.google.com/assets/colab-badge.svg)](https://colab.research.google.com/github/Khunmi/personal-website/blob/main/book/projects/data_investigation.ipynb)\n",
    "\n",
    "<!-- ## Table of Contents\n",
    "<ul>\n",
    "<li><a href=\"#intro\">Introduction</a></li>\n",
    "<li><a href=\"#dependencies\">Dependencies and Data</a></li>\n",
    "<li><a href=\"#wrangling\">Data Wrangling</a></li>\n",
    "<li><a href=\"#eda\">Exploratory Data Analysis</a></li>\n",
    "<li><a href=\"#conclusions\">Conclusions</a></li>\n",
    "</ul>\n",
    "\n",
    "<a id='intro'></a> -->\n",
    "## Introduction\n",
    "\n",
    "This project will be investigating the 'No-show appointments' dataset for hospital appointment attendance status and other characteristics for 100,000 patients in Brazil, South America.\n",
    "\n",
    "In particular, I will be exploring trends concerning attendance rates between male and females, factors that may or may not have influenced attendance such as SMS prompts, welfare enrolments and Handicap level, average age of attendees and non-attendees.\n",
    "### Dataset Description \n",
    "\n",
    "This dataset collects information from 100k medical appointments in Brazil and is focused on the question of whether or not patients show up for their appointment. A number of characteristics about the patient are included in each row.\n",
    "‘ScheduledDay’ tells us on what day the patient set up their appointment.\n",
    "‘Neighborhood’ indicates the location of the hospital.\n",
    "‘Scholarship’ indicates whether or not the patient is enrolled in Brasilian welfare program Bolsa Família.. \n",
    "\n",
    "\n",
    "### Question(s) for Analysis\n",
    "- What age ranges are more likely to honor appointments as well as the ages that most likely wouldn't?\n",
    "\n",
    "- Does SMS prompts play an important role in appointment showup rates?\n",
    "\n",
    "- What percentage of males and females are enrolled in welfare programs?\n"
   ]
  },
  {
   "cell_type": "markdown",
   "metadata": {},
   "source": [
    "<!-- <a id='dependencies'></a> -->\n",
    "### Dependencies and Data\n",
    "\n",
    "The following code blocks contain import for dependencies used in this project including the CSV file.\n",
    "\n",
    "\n",
    "![purple-divider](https://user-images.githubusercontent.com/7065401/52071927-c1cd7100-2562-11e9-908a-dde91ba14e59.png)"
   ]
  },
  {
   "cell_type": "code",
   "execution_count": 1,
   "metadata": {},
   "outputs": [],
   "source": [
    "#This cell loads in all packages used throughout the project\n",
    "import numpy as np\n",
    "import pandas as pd\n",
    "import matplotlib.pyplot as plt\n",
    "%matplotlib inline\n",
    "import seaborn as sns\n",
    "df = pd.read_csv('https://d17h27t6h515a5.cloudfront.net/topher/2017/October/59dd2e9a_noshowappointments-kagglev2-may-2016/noshowappointments-kagglev2-may-2016.csv')"
   ]
  },
  {
   "cell_type": "markdown",
   "metadata": {},
   "source": [
    "### Data Properties\n",
    "\n",
    "The following cells contains statements used to check the various properties of the dataframe such as;\n",
    "\n",
    "- Column names\n",
    "- Data Types in each column\n",
    "- Number of Rows and Columns\n",
    "- Columns with missing values\n",
    "\n",
    "A quick description command on the dataframe will also help preview trends at a glance.\n",
    "\n",
    "\n",
    "![purple-divider](https://user-images.githubusercontent.com/7065401/52071927-c1cd7100-2562-11e9-908a-dde91ba14e59.png)"
   ]
  },
  {
   "cell_type": "code",
   "execution_count": 2,
   "metadata": {},
   "outputs": [
    {
     "data": {
      "text/plain": [
       "(110527, 14)"
      ]
     },
     "execution_count": 2,
     "metadata": {},
     "output_type": "execute_result"
    }
   ],
   "source": [
    "#The number if rows and columns are given below to give an idea on how large the dataset is.\n",
    "df.shape"
   ]
  },
  {
   "cell_type": "code",
   "execution_count": null,
   "metadata": {
    "scrolled": true
   },
   "outputs": [],
   "source": [
    "#information about the dataframe such as data types in each column is detailed below.\n",
    "df.info()"
   ]
  },
  {
   "cell_type": "code",
   "execution_count": null,
   "metadata": {},
   "outputs": [],
   "source": [
    "df.describe()"
   ]
  },
  {
   "cell_type": "markdown",
   "metadata": {},
   "source": [
    "A quick glance at the dataset description is clearly highlighting that there is at least one occurrence of an invalid  age value(-1.0) in the age column. This will be treated in the Data cleaning section."
   ]
  },
  {
   "cell_type": "markdown",
   "metadata": {},
   "source": [
    "<!-- <a id='wrangling'></a> -->\n",
    "## Data Wrangling\n",
    "\n",
    "There will be inspection of the dataset in this section. Checks for duplicates and null values\n",
    "are necessary checks in order to determine the amount and type of cleaning and conversions that would be needed.\n",
    "\n",
    "This section will also dive into data cleaning processes after proper checks. \n",
    "\n",
    "![purple-divider](https://user-images.githubusercontent.com/7065401/52071927-c1cd7100-2562-11e9-908a-dde91ba14e59.png)"
   ]
  },
  {
   "cell_type": "code",
   "execution_count": null,
   "metadata": {
    "scrolled": false
   },
   "outputs": [],
   "source": [
    "#The first ten rows in the dataset is queries to give and overview on what the data looks like.\n",
    "df.head(10)"
   ]
  },
  {
   "cell_type": "markdown",
   "metadata": {},
   "source": [
    " A view of what the first ten rows in our dataset looks like to give an idea of what is contained within the dataset."
   ]
  },
  {
   "cell_type": "code",
   "execution_count": null,
   "metadata": {},
   "outputs": [],
   "source": [
    "#this statement is used to get the total number of duplicated rows: it appears we have none \n",
    "\n",
    "df.duplicated().sum()"
   ]
  },
  {
   "cell_type": "markdown",
   "metadata": {},
   "source": [
    "Total number of duplicate rows in our data is computed in the cell above as a rule for data inspection."
   ]
  },
  {
   "cell_type": "code",
   "execution_count": null,
   "metadata": {},
   "outputs": [],
   "source": [
    "# the '.info()' gives necessary information to determine if any column has null values present.\n",
    "df.info()"
   ]
  },
  {
   "cell_type": "markdown",
   "metadata": {},
   "source": [
    "A quick look at the information attributes for the entire dataframe."
   ]
  },
  {
   "cell_type": "markdown",
   "metadata": {},
   "source": [
    "\n",
    "### Data Cleaning\n",
    "\n",
    "![purple-divider](https://user-images.githubusercontent.com/7065401/52071927-c1cd7100-2562-11e9-908a-dde91ba14e59.png) "
   ]
  },
  {
   "cell_type": "code",
   "execution_count": null,
   "metadata": {},
   "outputs": [],
   "source": [
    "#Dropping columns that wouldn't be of use in my analysis\n",
    "\n",
    "df.drop(['PatientId', 'AppointmentID'], axis = 1, inplace = True)"
   ]
  },
  {
   "cell_type": "markdown",
   "metadata": {},
   "source": [
    "Following the data preview done in the previous section, it appears that there are some columns that wouldn't be needed as regards the purview of my analysis such as the 'PatientId' and 'AppointmentID' columns . Dropping them will enable me focus on the sections that are of use to me."
   ]
  },
  {
   "cell_type": "code",
   "execution_count": null,
   "metadata": {},
   "outputs": [],
   "source": [
    "#statement converting all dataframe column to lowercase for easy access\n",
    "\n",
    "df.columns= df.columns.str.lower()"
   ]
  },
  {
   "cell_type": "markdown",
   "metadata": {},
   "source": [
    "A good practice is to convert all column names to lower case because it is somewhat stressfull to always check the column name every time you intend to access them during analysis. "
   ]
  },
  {
   "cell_type": "code",
   "execution_count": null,
   "metadata": {},
   "outputs": [],
   "source": [
    "#Renaming of columns and making the changes permanent with the 'inplace' command\n",
    "\n",
    "df.rename(columns = {'no-show': 'no_show','hipertension':'hypertension','handcap':'handicap'}, inplace = True)"
   ]
  },
  {
   "cell_type": "markdown",
   "metadata": {},
   "source": [
    "After observing the column names in the previous section, column 'no-show' seems to have a python inbuilt operator as part of its naming. It is of great importance to rename this column so as to avoid conflicts and errors when referencing column 'no-show'.\n",
    "\n",
    "Column 'hipertension' and 'handcap' are spelled wrongly so I decided to make a correction to 'hypertension' and 'handicap' respectively."
   ]
  },
  {
   "cell_type": "code",
   "execution_count": null,
   "metadata": {},
   "outputs": [],
   "source": [
    "#correcting data entry error by renaming 'Yes' to 'no' and renaming 'No' to 'yes'\n",
    "\n",
    "df['no_show'].replace({'No' : 'yes'}, inplace = True)\n",
    "df['no_show'].replace({'Yes' : 'no'}, inplace = True)"
   ]
  },
  {
   "cell_type": "markdown",
   "metadata": {},
   "source": [
    "Documentation states there was an error in the no_show column where 'Yes' was recorded as 'No' and 'No' was entered as 'Yes'.\n",
    "This cell renames the values of the no_show column"
   ]
  },
  {
   "cell_type": "code",
   "execution_count": null,
   "metadata": {},
   "outputs": [],
   "source": [
    "#Converting Date type data in the dataframe\n",
    "def date_convert():\n",
    "    df['scheduledday'] = pd.to_datetime(df['scheduledday'])\n",
    "    df['appointmentday'] = pd.to_datetime(df['appointmentday'])\n",
    "    return df"
   ]
  },
  {
   "cell_type": "markdown",
   "metadata": {},
   "source": [
    "After data inspection, it was obesrved that the 'scheduledday' and 'appointmentday' columns are dates but their data types do not correspond, they appear to be strings which should not be so. Dates are to be treated as datetime formats for smooth analysis process."
   ]
  },
  {
   "cell_type": "code",
   "execution_count": null,
   "metadata": {
    "scrolled": false
   },
   "outputs": [],
   "source": [
    "#checking datafarme properties for confirmation\n",
    "date_convert()\n",
    "\n",
    "df.info()"
   ]
  },
  {
   "cell_type": "markdown",
   "metadata": {},
   "source": [
    "This cell checks to confirm that the date conversions were successful."
   ]
  },
  {
   "cell_type": "code",
   "execution_count": null,
   "metadata": {},
   "outputs": [],
   "source": [
    "#Querying invalid age entry from the dataframe\n",
    "\n",
    "invalid_age = df[(df.age < 1)]\n",
    "invalid_age.describe()"
   ]
  },
  {
   "cell_type": "markdown",
   "metadata": {},
   "source": [
    "- Taking a look at the category of data that has invalid age entry as spoted while inspecting the data properties (see section <a href=\"#dependencies\">Dependencies and Data</a>).\n",
    "\n",
    "- As seen, we have a total of 3540 rows with invalid age input of less than 1. A further inspection of this category is necessary inorder to make a decision on whether to delete the entries from the dataset or fill the wrong values."
   ]
  },
  {
   "cell_type": "code",
   "execution_count": null,
   "metadata": {
    "scrolled": false
   },
   "outputs": [],
   "source": [
    "fig, ax = plt.subplots(2,4,figsize=(20,10))\n",
    "explode = (0.1, 0)\n",
    "colors = 'orange'\n",
    "\n",
    "ax[0,0].hist(invalid_age.gender, color = colors)\n",
    "ax[0,0].set_title('Gender')\n",
    "ax[1,0].hist(invalid_age.handicap, color = colors)\n",
    "ax[1,0].set_title('Handicap')\n",
    "ax[1,1].hist(invalid_age.hypertension, color = colors)\n",
    "ax[1,1].set_title('Hypertension')\n",
    "ax[1,2].hist(invalid_age.scholarship, color = colors)\n",
    "ax[1,2].set_title('Scholarship')\n",
    "ax[0,1].hist(invalid_age.alcoholism, color = colors)\n",
    "ax[0,1].set_title('Alcoholism')\n",
    "ax[0,2].hist(invalid_age.diabetes, color = colors)\n",
    "ax[0,2].set_title('Diabetes')\n",
    "ax[0,3].hist(invalid_age.sms_received, color = colors)\n",
    "ax[0,3].set_title('Sms_received')\n",
    "ax[1,3].hist(invalid_age.no_show, color = colors)\n",
    "ax[1,3].set_title('No_Show');"
   ]
  },
  {
   "cell_type": "markdown",
   "metadata": {},
   "source": [
    "This cell contains an overview plot of other characteristics of the group with ages less than 1. These plots give enough details to compare with the general characteristics of our entire dataframe. I am looking to inspect if there are any peculiarities about this age group by comparing their characteristics with that of the entire datafarme."
   ]
  },
  {
   "cell_type": "code",
   "execution_count": null,
   "metadata": {
    "scrolled": false
   },
   "outputs": [],
   "source": [
    "fig, ax = plt.subplots(2,4,figsize=(20,10))\n",
    "explode = (0.1, 0)\n",
    "\n",
    "ax[0,0].hist(df.gender)\n",
    "ax[0,0].set_title('Gender')\n",
    "ax[1,0].hist(df.handicap)\n",
    "ax[1,0].set_title('Handicap')\n",
    "ax[1,1].hist(df.hypertension)\n",
    "ax[1,1].set_title('Hipertension')\n",
    "ax[1,2].hist(df.scholarship)\n",
    "ax[1,2].set_title('Scholarship')\n",
    "ax[0,1].hist(df.alcoholism)\n",
    "ax[0,1].set_title('Alcoholism')\n",
    "ax[0,2].hist(df.diabetes)\n",
    "ax[0,2].set_title('Diabetes')\n",
    "ax[0,3].hist(df.sms_received)\n",
    "ax[0,3].set_title('Sms_received')\n",
    "ax[1,3].hist(df.no_show)\n",
    "ax[1,3].set_title('No_Show');"
   ]
  },
  {
   "cell_type": "markdown",
   "metadata": {},
   "source": [
    "Histograms plots for general characteristics of the 'No-show appointments' dataset. \n",
    "\n",
    "\n",
    "In comparison to the histogram plots for the age group less than 1 years of age, it can be deduced that there are a few differences in trends across all characteristics. \n",
    "\n",
    "### Deduction Summary\n",
    "\n",
    "- Generally, more people showup for their appointments in both data categories.\n",
    "\n",
    "- Scholarship shows same type of distribution in both groups.\n",
    "\n",
    "- There are more females than males in the entire dataset as opposed to more males than females in the wrong age category.\n",
    "\n",
    "- 'alcoholism', 'hypertension','diabetes' and 'handicap' columns recorded in 0 cases for all patients in the wrong-age-entry category while other patients are classified under one or more of these columns in the general dataset.\n",
    "\n",
    "\n"
   ]
  },
  {
   "cell_type": "markdown",
   "metadata": {},
   "source": [
    "Deductions based on the comparisons have informed my decision to fill the wrong-age-entry category with the average age across the original dataset  due to the fact that the both groups largely share same characteristics\n"
   ]
  },
  {
   "cell_type": "code",
   "execution_count": null,
   "metadata": {},
   "outputs": [],
   "source": [
    "#Replacing invalid ages with the mean age value across the entire dataset.\n",
    "\n",
    "df['age'].replace({ -1 : df.age.mean(), 0 : df.age.mean()}, inplace = True)"
   ]
  },
  {
   "cell_type": "markdown",
   "metadata": {},
   "source": [
    "All invalid ages are replaced in the cell above and making the changes inplace for the rest of my analysis."
   ]
  },
  {
   "cell_type": "code",
   "execution_count": null,
   "metadata": {},
   "outputs": [],
   "source": [
    "# A good practice is to check if changes have been effected\n",
    "\n",
    "df.describe()"
   ]
  },
  {
   "cell_type": "code",
   "execution_count": null,
   "metadata": {},
   "outputs": [],
   "source": [
    "#checkinng if there are still ages less that 1 remaining in the dataframe\n",
    "\n",
    "df[(df.age < 1)]['age'].count()"
   ]
  },
  {
   "cell_type": "markdown",
   "metadata": {},
   "source": [
    "Both cells above helps to inform that changes have been successfully effected across the dataframe"
   ]
  },
  {
   "cell_type": "markdown",
   "metadata": {},
   "source": [
    "<!-- <a id='eda'></a> -->\n",
    "## Exploratory Data Analysis\n",
    "\n",
    "![purple-divider](https://user-images.githubusercontent.com/7065401/52071927-c1cd7100-2562-11e9-908a-dde91ba14e59.png) \n",
    "\n",
    "\n",
    "What age ranges are more likely to honor appointments as well as the ages that most likely wouldn't?\n",
    "\n",
    "- Is attendance a function of age?"
   ]
  },
  {
   "cell_type": "code",
   "execution_count": null,
   "metadata": {},
   "outputs": [],
   "source": [
    "#querying two categories from our original datasets based on those that honor and did not honor appointments\n",
    "\n",
    "showup = df.query('no_show == \"yes\"')\n",
    "nshowup = df.query('no_show == \"no\"')\n"
   ]
  },
  {
   "cell_type": "markdown",
   "metadata": {},
   "source": [
    "To understand if honoring appointments is a function of age, we need to break down our dataframe in to sections for purpose of analysis. I start by creating a query for all patients that showedup and those that did not showup being the subject of my question."
   ]
  },
  {
   "cell_type": "code",
   "execution_count": null,
   "metadata": {
    "scrolled": false
   },
   "outputs": [],
   "source": [
    "#Plotting statements using matplolib\n",
    "colors = ['skyblue', 'red']\n",
    "locations = [1, 2]\n",
    "height = [showup['age'].mean(), nshowup['age'].mean()]\n",
    "labels = ['Yes', 'No']\n",
    "plt.figure(figsize=(15,7))\n",
    "plt.bar(locations, height , color = colors, tick_label=labels)\n",
    "plt.legend(loc=\"upper right\")\n",
    "plt.title(\"Average Age of Clients that Honored & Didn't Honor Appointments\")\n",
    "plt.xlabel('Showup Response')\n",
    "plt.ylabel('Age');"
   ]
  },
  {
   "cell_type": "markdown",
   "metadata": {},
   "source": [
    "Based on the chart above, it shows that slightly older people tend to honor medical appointments more. in order words, the closer and individual gets to age 40(i.e age 36,37,39 etc), the likelier the individual will honor hospital appintments.\n",
    "\n",
    "\n",
    "It would be interesting to see how this varies amongst genders as I continue my analysis."
   ]
  },
  {
   "cell_type": "code",
   "execution_count": null,
   "metadata": {},
   "outputs": [],
   "source": [
    "#A further breakdown of the query created earlier\n",
    "\n",
    "showup_f = showup.query('gender == \"F\"')\n",
    "nshowup_f = nshowup.query('gender == \"F\"')\n",
    "showup_m = showup.query('gender == \"M\"')\n",
    "nshowup_m = nshowup.query('gender == \"M\"')"
   ]
  },
  {
   "cell_type": "markdown",
   "metadata": {},
   "source": [
    "I am breaking down the first set of queries('showup' and 'nshowup') into subcategories for males and females in order to analyse the distribution of attendance based on average age for the new subcategories."
   ]
  },
  {
   "cell_type": "code",
   "execution_count": null,
   "metadata": {
    "scrolled": false
   },
   "outputs": [],
   "source": [
    "#Plotting statements using matplolib\n",
    "\n",
    "colors = ['skyblue']\n",
    "color1 = ['red']\n",
    "locations = [1, 2]\n",
    "mean_s = [showup_f.age.mean(), showup_m.age.mean()]\n",
    "mean_ns = [nshowup_f.age.mean(), nshowup_m.age.mean()]\n",
    "labels = ['Female', 'Male']\n",
    "plt.figure(figsize=(15,7))\n",
    "plt.bar(locations, mean_s, color = colors, tick_label=labels, label=\"Yes\")\n",
    "plt.bar(locations, mean_ns, color = color1, tick_label=labels, label=\"No\")\n",
    "plt.legend(loc=\"upper right\")\n",
    "plt.title(\"Average Age of Clients that Honored & Didn't Honor Appointments by Gender\")\n",
    "plt.xlabel('Gender')\n",
    "plt.ylabel('Age');"
   ]
  },
  {
   "cell_type": "markdown",
   "metadata": {},
   "source": [
    "This communicates more insight on the connection between age and attendance according to  gender. Some key notes include;\n",
    "\n",
    "1. The female distribution conforms closely with the general trend observed in the previous chart. Average age of females that honor appointments is between 40 and 41, while the average age of females that fail to showup is between age 35 and 36.\n",
    "\n",
    "2. The male distribution however shows a general attribute of a lesser average age of attendance and non attendance. "
   ]
  },
  {
   "cell_type": "markdown",
   "metadata": {},
   "source": [
    "- Do SMS prompts play an important role in appointment showup rates?"
   ]
  },
  {
   "cell_type": "code",
   "execution_count": null,
   "metadata": {},
   "outputs": [],
   "source": [
    "# A look at the number of people that received SMS in showup and noshowup categories\n",
    "\n",
    "sms_show = showup.query('sms_received == 1')['sms_received'].count()\n",
    "sms_nshow = nshowup.query('sms_received == 1')['sms_received'].count()\n",
    "\n",
    "sms_show, sms_nshow"
   ]
  },
  {
   "cell_type": "markdown",
   "metadata": {},
   "source": [
    "Investigating the influence of SMS prompts require drilling further into the first queries created for our analysis('showup' and 'nshowup'). The cell above contains statements generating the number of people that receives SMS and showedup for their appointments and those that didn't show despite receiving SMS prompts"
   ]
  },
  {
   "cell_type": "code",
   "execution_count": null,
   "metadata": {},
   "outputs": [],
   "source": [
    "# A look at the number of people that did not receive SMS in showup and noshowup categories\n",
    "\n",
    "nsms_show = showup.query('sms_received == 0')['sms_received'].count()\n",
    "nsms_nshow = nshowup.query('sms_received == 0')['sms_received'].count()\n",
    "\n",
    "nsms_show, nsms_nshow"
   ]
  },
  {
   "cell_type": "code",
   "execution_count": null,
   "metadata": {},
   "outputs": [],
   "source": [
    "#This section helps to position the plots below side by side as well as the overall  size of the plot displayed\n",
    "fig, ax = plt.subplots(1,2,figsize=(15,7))\n",
    "explode = (0.1, 0)\n",
    "\n",
    "#This plot(1) is for the category of people that received SMS prompts\n",
    "color = ['green','pink']\n",
    "locations = [1, 2]\n",
    "show_status = [sms_show, sms_nshow]\n",
    "labels = ['Yes', 'No']\n",
    "ax[0].pie(show_status, autopct = '%1.1f%%', labels = labels, colors = color)\n",
    "ax[0].legend(loc=\"upper left\")\n",
    "ax[0].set_title(\"Percentage of Honored &\\nUnhonored Appointments\\nAmongst SMS Receivers\")\n",
    "\n",
    "\n",
    "#This plot(2) is for the category of people that did not receive SMS prompts \n",
    "color = ['green','pink']\n",
    "locations = [1, 2]\n",
    "show_status = [nsms_show, nsms_nshow]\n",
    "labels = ['Yes', 'No']\n",
    "ax[1].pie(show_status, autopct = '%1.1f%%', labels = labels, colors = color)\n",
    "ax[1].legend(loc=\"upper right\")\n",
    "ax[1].set_title(\"Percentage of Honored &\\n Unhonored Appointments\\nAmongst non-SMS Receivers\");"
   ]
  },
  {
   "cell_type": "markdown",
   "metadata": {},
   "source": [
    "Clearly, SMS prompts doesn't seem to influence attendance in any way.\n",
    "\n",
    "1. A large percentage(83.3%) of people that didn't receive SMS prompts honored their appointments while 16.7% did not.\n",
    "\n",
    "2. 72.4% of SMS receivers honored their appointment but this is obviously lesser than the attendees that did not receive any SMS prompts whatsoever. \n"
   ]
  },
  {
   "cell_type": "markdown",
   "metadata": {},
   "source": [
    "- What percentage of males and females are enrolled in welfare programs?"
   ]
  },
  {
   "cell_type": "code",
   "execution_count": null,
   "metadata": {},
   "outputs": [],
   "source": [
    "# The following statement groups the dataframe into different gender category and calculates\n",
    "#the sum of scholarships in each category using integer references from the resulting array.\n",
    "\n",
    "schshp_f = df.groupby(['gender'])['scholarship'].sum()[0]\n",
    "schshp_m = df.groupby(['gender'])['scholarship'].sum()[1]\n",
    "\n",
    "schshp_m, schshp_f"
   ]
  },
  {
   "cell_type": "markdown",
   "metadata": {},
   "source": [
    "Exploring the distribution of scholarship enrolments by gender involves cateorising our dataframe into the existing gender distribution and summing up the scholarship values because the data type in the 'scholarship' column is 'int' and it consists of two distinct values(0 and 1)."
   ]
  },
  {
   "cell_type": "code",
   "execution_count": null,
   "metadata": {},
   "outputs": [],
   "source": [
    "#All male and female count generated using the gender column and positional selection for each gender value.\n",
    "\n",
    "male_count = df.groupby(['gender'])['gender'].count()[1]\n",
    "female_count = df.groupby(['gender'])['gender'].count()[0]\n",
    "\n",
    "male_count, female_count"
   ]
  },
  {
   "cell_type": "markdown",
   "metadata": {},
   "source": [
    "Since I intend to investigate the percentage distribution, the total count for both male and female genders in our dataset needs to be calculated as given above. "
   ]
  },
  {
   "cell_type": "code",
   "execution_count": null,
   "metadata": {},
   "outputs": [],
   "source": [
    "#calculating the difference between males and females enrolled in  welfare programs and those that were not.\n",
    "\n",
    "schshp_diff_m = male_count - schshp_m\n",
    "schshp_diff_f = female_count - schshp_f\n",
    "\n",
    "schshp_diff_m, schshp_diff_f"
   ]
  },
  {
   "cell_type": "markdown",
   "metadata": {},
   "source": [
    "Investigating using percentage was chosen because the number of females in the distribution far outnumbers the males so plotting aggregates like count may not communicate the exact picture of the welfare enrollment distribution amongst genders."
   ]
  },
  {
   "cell_type": "code",
   "execution_count": null,
   "metadata": {},
   "outputs": [],
   "source": [
    "#This section helps to position the plots below side by side as well as the necessary size of the plot displayed\n",
    "fig, ax = plt.subplots(1,2,figsize=(15,7))\n",
    "explode = (0.1, 0)\n",
    "\n",
    "#Plot() shows the percentage of schorlasrship recipients amongst males \n",
    "color = ['orange','skyblue']\n",
    "locations = [1, 2]\n",
    "schship_status = [schshp_m, schshp_diff_m]\n",
    "labels = ['Yes', 'No']\n",
    "ax[0].pie(schship_status, autopct = '%1.1f%%', labels = labels, colors = color)\n",
    "ax[0].legend(loc=\"upper left\")\n",
    "ax[0].set_title(\"Percentage of scholarship\\nrecipients amongst Males\")\n",
    "\n",
    "\n",
    "#Plot(2) shows the percentage of schorlasrship recipients amongst females \n",
    "color = ['orange','skyblue']\n",
    "locations = [1, 2]\n",
    "schship_status = [schshp_f, schshp_diff_f]\n",
    "labels = ['Yes', 'No']\n",
    "ax[1].pie(schship_status, autopct = '%1.1f%%', labels = labels, colors = color)\n",
    "ax[1].legend(loc=\"upper right\")\n",
    "ax[1].set_title(\"Percentage of scholarship\\nrecipients amongst Females\");"
   ]
  },
  {
   "cell_type": "markdown",
   "metadata": {},
   "source": [
    "Some details from the chart include;\n",
    "\n",
    "1. Females have a higher percentage of enrollment in welfare programmes than males. More than twice the percentage of enrolled men to be precise. \n",
    "\n",
    "2. Only 5.2% of the male distribution are enrolled in welfare programmes. "
   ]
  },
  {
   "cell_type": "markdown",
   "metadata": {},
   "source": [
    "<!-- <a id='conclusions'></a> -->\n",
    "## Conclusions\n",
    "\n",
    "In conclusion, investigation shows through question one that according to the data provided, people who are middleaged(35 to 41) tend to honors appointments more. Although slightly younger observations were highlighted in the male category. Question two investigated the influence of SMS prompts on attendance of appiontment. Analysis shows that SMS prompts do not necessarily affect the percentage of people that honored their appointments. Lastly, welfare enrollment distribution amongst gender was investigated and analysis revealed that a lot lesser percentage of men are enrolled in welfare programmes as opposed to women. However, there is a generally low enrolment rate for across the dataset.\n",
    "\n",
    "\n",
    "## Limitations\n",
    "\n",
    "Data not capturing other gender identities. Male and females are not the only genders existing now. It would've helped to explore some peculiarities and differences associated with other gender identities."
   ]
  },
  {
   "cell_type": "markdown",
   "metadata": {},
   "source": [
    "## References\n",
    "\n",
    ">**1.** https://matplotlib.org/\n",
    ">**2.** https://pandas.pydata.org/\n",
    ">**3.** https://stackoverflow.com/\n",
    ">**4.** https://datatofish.com/"
   ]
  },
  {
   "cell_type": "code",
   "execution_count": null,
   "metadata": {},
   "outputs": [],
   "source": [
    "from subprocess import call\n",
    "call(['python', '-m', 'nbconvert', 'Investigate_a_Dataset.ipynb'])"
   ]
  }
 ],
 "metadata": {
  "kernelspec": {
   "display_name": "geo",
   "language": "python",
   "name": "python3"
  },
  "language_info": {
   "codemirror_mode": {
    "name": "ipython",
    "version": 3
   },
   "file_extension": ".py",
   "mimetype": "text/x-python",
   "name": "python",
   "nbconvert_exporter": "python",
   "pygments_lexer": "ipython3",
   "version": "3.11.11"
  }
 },
 "nbformat": 4,
 "nbformat_minor": 2
}
