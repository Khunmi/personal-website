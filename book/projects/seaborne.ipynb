{
 "cells": [
  {
   "cell_type": "markdown",
   "metadata": {},
   "source": [
    "# Analytics With Seaborne\n",
    "\n",
    "[![Open In Colab](https://colab.research.google.com/assets/colab-badge.svg)](https://colab.research.google.com/github/Khunmi/personal-website/blob/main/book/projects/seaborne.ipynb)\n",
    "\n",
    "\n",
    "<!-- #                by \n",
    "<h1><span style=\"color:blue\">Bukunmi Adebanjo</span><h1> -->\n",
    "    \n",
    "![purple-divider](https://user-images.githubusercontent.com/7065401/52071927-c1cd7100-2562-11e9-908a-dde91ba14e59.png)\n",
    "<!-- <h3>This current notebook is organised into the following sections:<h3>\n",
    " \n",
    "- [Introduction](#intro)\n",
    "\n",
    "- [Univariate Exploration](#uni)\n",
    "\n",
    "- [Bivariate Exploration](#bi)\n",
    "\n",
    "- [Multivariate Exploration](#multi) -->\n",
    "\n",
    "\n",
    "\n",
    "## Introduction\n",
    "\n",
    "This project explores the individual rides in a bike-sharing system spanning the larger San Francisco Bay area included in the 'fordgobike-tripdata' dataset of over 180,000 records.\n",
    "\n",
    "![purple-divider](https://user-images.githubusercontent.com/7065401/52071927-c1cd7100-2562-11e9-908a-dde91ba14e59.png)\n",
    "## Preliminary Wrangling\n"
   ]
  },
  {
   "cell_type": "code",
   "execution_count": null,
   "metadata": {},
   "outputs": [],
   "source": [
    "# import all packages and set plots to be embedded inline\n",
    "import numpy as np\n",
    "import pandas as pd\n",
    "import matplotlib.pyplot as plt\n",
    "\n",
    "%matplotlib inline\n",
    "import seaborn as sb"
   ]
  },
  {
   "cell_type": "code",
   "execution_count": null,
   "metadata": {},
   "outputs": [],
   "source": [
    "# loading th dataset into a pandas dataframe\n",
    "\n",
    "df = pd.read_csv(\n",
    "    r\"https://video.udacity-data.com/topher/2023/July/64ac0039_fordgobike-tripdata/fordgobike-tripdata.csv\"\n",
    ")\n",
    "df.head()"
   ]
  },
  {
   "cell_type": "code",
   "execution_count": null,
   "metadata": {},
   "outputs": [],
   "source": [
    "df.describe()"
   ]
  },
  {
   "cell_type": "code",
   "execution_count": null,
   "metadata": {},
   "outputs": [],
   "source": [
    "print(df.shape)\n",
    "print(df.dtypes)"
   ]
  },
  {
   "cell_type": "code",
   "execution_count": null,
   "metadata": {},
   "outputs": [],
   "source": [
    "# making my copy of the original data set\n",
    "bikeshare = df.copy()\n",
    "\n",
    "# dropping rows containing null values from the data set\n",
    "rows_to_drop = list(bikeshare[bikeshare.isna().any(axis=1)].index)\n",
    "\n",
    "bikeshare = bikeshare.drop(rows_to_drop)"
   ]
  },
  {
   "cell_type": "code",
   "execution_count": null,
   "metadata": {},
   "outputs": [],
   "source": [
    "# dropping columns that wouldn't be relevant to my eplanatory analysis project\n",
    "bikeshare = bikeshare.drop(\n",
    "    [\n",
    "        \"start_station_latitude\",\n",
    "        \"start_station_longitude\",\n",
    "        \"end_station_latitude\",\n",
    "        \"end_station_longitude\",\n",
    "        \"bike_share_for_all_trip\",\n",
    "    ],\n",
    "    axis=1,\n",
    ")"
   ]
  },
  {
   "cell_type": "code",
   "execution_count": null,
   "metadata": {},
   "outputs": [],
   "source": [
    "# converting some variables to a more appropriate data type\n",
    "def converter():\n",
    "    bikeshare.bike_id = bikeshare.bike_id.astype(int)\n",
    "    bikeshare.member_birth_year = bikeshare.member_birth_year.astype(int)\n",
    "    bikeshare.start_station_id = bikeshare.start_station_id.astype(int)\n",
    "    bikeshare.end_station_id = bikeshare.end_station_id.astype(int)\n",
    "    bikeshare.member_gender = bikeshare.member_gender.astype(\"category\")\n",
    "    bikeshare.user_type = bikeshare.user_type.astype(\"category\")\n",
    "    bikeshare.start_time = pd.to_datetime(bikeshare.start_time)\n",
    "    bikeshare.end_time = pd.to_datetime(bikeshare.end_time)\n",
    "\n",
    "\n",
    "converter()"
   ]
  },
  {
   "cell_type": "code",
   "execution_count": null,
   "metadata": {},
   "outputs": [],
   "source": [
    "print(bikeshare.shape)\n",
    "print(bikeshare.dtypes)"
   ]
  },
  {
   "cell_type": "code",
   "execution_count": null,
   "metadata": {},
   "outputs": [],
   "source": [
    "bikeshare.head()"
   ]
  },
  {
   "cell_type": "markdown",
   "metadata": {},
   "source": [
    "![purple-divider](https://user-images.githubusercontent.com/7065401/52071927-c1cd7100-2562-11e9-908a-dde91ba14e59.png)\n",
    "### What is the structure of your dataset?\n",
    "\n",
    "There are approximately 175,000 bike rides in this data set with 11 trip attributes\n",
    "(duration_sec,\n",
    "start_time,\n",
    "end_time,\n",
    "start_station_id, \n",
    "start_station_name,\n",
    "end_station_id,\n",
    "end_station_name,\n",
    "bike_id,\n",
    "user_type,\n",
    "member_birth_year,\n",
    "member_gender ). The `member_gender` and `user_type` features are categorical variables. Numeric data types are more dominant in the data set with 5 variables being integer values. \n",
    "\n",
    "### What is/are the main feature(s) of interest in your dataset?\n",
    "\n",
    "- I'm interested in the time it takes for an average trip to be completed.\n",
    "\n",
    "- If any particular gender spends more time than the other on trips.\n",
    "\n",
    "- Another area of interest is the relationship between user_type and member_gender.\n",
    "\n",
    "\n",
    "\n",
    "### What features in the dataset do you think will help support your investigation into your feature(s) of interest?\n",
    "\n",
    "- I expect `the duration_sec` variable will be of great importance in understanding average time duration for trips.\n",
    "\n",
    "- Variables such as the user_type, member_gender,member_birth_year will also help in exploring relationships."
   ]
  },
  {
   "cell_type": "markdown",
   "metadata": {},
   "source": [
    "<!-- ![purple-divider](https://user-images.githubusercontent.com/7065401/52071927-c1cd7100-2562-11e9-908a-dde91ba14e59.png) -->\n",
    "\n",
    "## Univariate Exploration\n",
    "\n",
    "![purple-divider](https://user-images.githubusercontent.com/7065401/52071927-c1cd7100-2562-11e9-908a-dde91ba14e59.png)\n",
    "\n",
    "-  **I will start by taking a look at some variables of interest.**"
   ]
  },
  {
   "cell_type": "code",
   "execution_count": null,
   "metadata": {},
   "outputs": [],
   "source": [
    "binsize = 100\n",
    "bins = np.arange(0, bikeshare[\"duration_sec\"].max() + binsize, binsize)\n",
    "\n",
    "plt.figure(figsize=[8, 5])\n",
    "plt.hist(data=bikeshare, x=\"duration_sec\", bins=bins)\n",
    "plt.xlabel(\"Duration (sec)\")\n",
    "plt.title(\"Distribution of Trip Duration\")\n",
    "plt.xlim(0, 3500);"
   ]
  },
  {
   "cell_type": "markdown",
   "metadata": {},
   "source": [
    "Duration distribution comment 1: <span style=\"color:red\">The distribution of the duration variable has a long tail and it is rightly-skewed.</span>\n",
    "\n",
    "Duration distribution comment 2: <span style=\"color:red\">Finding the right bin size for this ditribution took a while. Reducing it to minutes or hours will be a good idea for me to explore.</span>"
   ]
  },
  {
   "cell_type": "code",
   "execution_count": null,
   "metadata": {},
   "outputs": [],
   "source": [
    "# converting the duration variable from seconds to minutes\n",
    "\n",
    "bikeshare[\"duration_min\"] = np.round((bikeshare.duration_sec / 60), 2)\n",
    "bikeshare = bikeshare.drop(\"duration_sec\", axis=1)"
   ]
  },
  {
   "cell_type": "code",
   "execution_count": null,
   "metadata": {},
   "outputs": [],
   "source": [
    "bikeshare.head()"
   ]
  },
  {
   "cell_type": "code",
   "execution_count": null,
   "metadata": {},
   "outputs": [],
   "source": [
    "# taking a look at the log distribution of duration to help determine a suitable bin size\n",
    "np.log(bikeshare[\"duration_min\"]).describe()"
   ]
  },
  {
   "cell_type": "code",
   "execution_count": null,
   "metadata": {},
   "outputs": [],
   "source": [
    "# log transformation plot\n",
    "binsize2 = 0.1\n",
    "bins = 10 ** np.arange(0, np.log(bikeshare[\"duration_min\"].max()) + binsize2, binsize2)\n",
    "ticks = [0.1, 0.3, 1, 3, 10, 30, 100, 300, 1000]\n",
    "labels = [\"{}\".format(v) for v in ticks]\n",
    "\n",
    "\n",
    "plt.figure(figsize=[8, 5])\n",
    "plt.hist(data=bikeshare, x=\"duration_min\", bins=bins)\n",
    "plt.xscale(\"log\")\n",
    "plt.xticks(ticks, labels)\n",
    "plt.xlabel(\"Duration (min)\")\n",
    "plt.title(\"Distribution of Trip Duration\")\n",
    "plt.xlim(0.02, 1500);"
   ]
  },
  {
   "cell_type": "markdown",
   "metadata": {},
   "source": [
    "Duration distribution comment 3: <span style=\"color:red\">\n",
    "A log scale plot helps to view the distrbution more closely, there seems to be a few data points greater than where majority of the distribution lies(1- 100 minutes). An observed peak is seen at 10 minutes.</span>"
   ]
  },
  {
   "cell_type": "markdown",
   "metadata": {},
   "source": [
    "![purple-divider](https://user-images.githubusercontent.com/7065401/52071927-c1cd7100-2562-11e9-908a-dde91ba14e59.png)\n",
    "\n",
    "- **I will proceed to take a look at the `user_type` variable. Particulary, I will explore the distribution of user types across the data set.**"
   ]
  },
  {
   "cell_type": "code",
   "execution_count": null,
   "metadata": {},
   "outputs": [],
   "source": [
    "base_color = sb.color_palette()[0]\n",
    "plt.figure(figsize=[8, 5])\n",
    "\n",
    "sb.countplot(data=bikeshare, x=\"user_type\", color=base_color)\n",
    "\n",
    "\n",
    "# percentage label on the bar chart\n",
    "n_trips = bikeshare.shape[0]\n",
    "user_counts = bikeshare[\"user_type\"].value_counts()\n",
    "locs, labels = plt.xticks()\n",
    "\n",
    "\n",
    "for loc, label in zip(locs, labels):\n",
    "    count = user_counts[label.get_text()]\n",
    "    percentage = \"{:0.1f}%\".format(100 * count / n_trips)\n",
    "    plt.text(loc, count - 8, percentage, ha=\"center\", color=\"r\")\n",
    "\n",
    "plt.title(\"Bike Trips by User category\")\n",
    "plt.xlabel(\"User Type\");"
   ]
  },
  {
   "cell_type": "markdown",
   "metadata": {},
   "source": [
    "Category distribution comment 1: <span style=\"color:red\">\n",
    "A majority of trips were done by subscribers (90.5%) while `customer category` accounts for below 10% of the trips taken.</span>"
   ]
  },
  {
   "cell_type": "markdown",
   "metadata": {},
   "source": [
    "![purple-divider](https://user-images.githubusercontent.com/7065401/52071927-c1cd7100-2562-11e9-908a-dde91ba14e59.png)\n",
    "\n",
    "- **Next is to explore the start_time and end_time variables. Particularly I want to understand the start time and end time distribution of trips between hours of the day, I want to check for similarities in peak periods if any.**"
   ]
  },
  {
   "cell_type": "code",
   "execution_count": null,
   "metadata": {},
   "outputs": [],
   "source": [
    "# extracting the starting hour and ending hour of each trip to understand trip distribution per hour of the day\n",
    "bikeshare[\"start_time_hr\"] = bikeshare[\"start_time\"].dt.time.astype(str)\n",
    "bikeshare[\"end_time_hr\"] = bikeshare[\"end_time\"].dt.time.astype(str)\n",
    "\n",
    "\n",
    "bikeshare[\"start_time_hr\"] = bikeshare[\"start_time_hr\"].str[0:2]\n",
    "bikeshare[\"end_time_hr\"] = bikeshare[\"end_time_hr\"].str[0:2]"
   ]
  },
  {
   "cell_type": "code",
   "execution_count": null,
   "metadata": {},
   "outputs": [],
   "source": [
    "bikeshare.head()"
   ]
  },
  {
   "cell_type": "code",
   "execution_count": null,
   "metadata": {},
   "outputs": [],
   "source": [
    "base_color = sb.color_palette()[0]\n",
    "plt.figure(figsize=[14, 12])\n",
    "plt.subplot(2, 1, 1)\n",
    "sb.countplot(data=bikeshare, x=\"start_time_hr\", color=base_color)\n",
    "\n",
    "# percentage label on the bar chart\n",
    "n_trips = bikeshare.shape[0]\n",
    "user_counts = bikeshare[\"start_time_hr\"].value_counts()\n",
    "locs, labels = plt.xticks()\n",
    "\n",
    "\n",
    "for loc, label in zip(locs, labels):\n",
    "    count = user_counts[label.get_text()]\n",
    "    percentage = \"{:0.1f}%\".format(100 * count / n_trips)\n",
    "    plt.text(loc, count - 8, percentage, ha=\"center\", color=\"r\")\n",
    "\n",
    "plt.title(\"Bike Trips Start Time per hour of the day\")\n",
    "plt.xlabel(\"Hours of the day (24hr)\")\n",
    "\n",
    "plt.subplot(2, 1, 2)\n",
    "\n",
    "sb.countplot(data=bikeshare, x=\"end_time_hr\", color=base_color)\n",
    "\n",
    "# percentage label on the bar chart\n",
    "n_trips = bikeshare.shape[0]\n",
    "user_counts = bikeshare[\"end_time_hr\"].value_counts()\n",
    "locs, labels = plt.xticks()\n",
    "\n",
    "\n",
    "for loc, label in zip(locs, labels):\n",
    "    count = user_counts[label.get_text()]\n",
    "    percentage = \"{:0.1f}%\".format(100 * count / n_trips)\n",
    "    plt.text(loc, count - 8, percentage, ha=\"center\", color=\"r\")\n",
    "\n",
    "plt.title(\"Bike Trips End time per hour of the day\")\n",
    "plt.xlabel(\"Hours of the day (24hr)\");"
   ]
  },
  {
   "cell_type": "markdown",
   "metadata": {},
   "source": [
    "Hourly distribution comment 1: <span style=\"color:red\">Both distributions appears bimodal whereby peak periods are observed at 8am and 9am as well as 5pm to 6pm with the most busy period recorded at 5pm for the start time. The trip end time also mimics the start time distrbution with a peak period of 5pm as well.  </span>"
   ]
  },
  {
   "cell_type": "markdown",
   "metadata": {},
   "source": [
    "![purple-divider](https://user-images.githubusercontent.com/7065401/52071927-c1cd7100-2562-11e9-908a-dde91ba14e59.png)\n",
    "\n",
    "- **What gender is predominant in larger San Francisco Bay area when it comes to bike trips? Let me take a look at this.**"
   ]
  },
  {
   "cell_type": "code",
   "execution_count": null,
   "metadata": {},
   "outputs": [],
   "source": [
    "# plotting age distribution\n",
    "base_color = sb.color_palette()[0]\n",
    "plt.figure(figsize=[8, 5])\n",
    "\n",
    "sb.countplot(data=bikeshare, x=\"member_gender\", color=base_color)\n",
    "\n",
    "\n",
    "# percentage label on the bar chart\n",
    "n_trips = bikeshare.shape[0]\n",
    "user_counts = bikeshare[\"member_gender\"].value_counts()\n",
    "locs, labels = plt.xticks()\n",
    "\n",
    "\n",
    "for loc, label in zip(locs, labels):\n",
    "    count = user_counts[label.get_text()]\n",
    "    percentage = \"{:0.1f}%\".format(100 * count / n_trips)\n",
    "    plt.text(loc, count - 8, percentage, ha=\"center\", color=\"r\")\n",
    "\n",
    "plt.title(\"Gender Distribution Across Dataset\")\n",
    "plt.xlabel(\"Gender Type\");"
   ]
  },
  {
   "cell_type": "markdown",
   "metadata": {},
   "source": [
    "Gender distribution comment 1: <span style=\"color:red\">As seen above, the male gender appears to take more bike trips than the female and other gender categories present in the dataset. More than half(75%) of the bike trips were actioned by men and less than 3% belong to the other gender category.</span>"
   ]
  },
  {
   "cell_type": "markdown",
   "metadata": {},
   "source": [
    "![purple-divider](https://user-images.githubusercontent.com/7065401/52071927-c1cd7100-2562-11e9-908a-dde91ba14e59.png)\n",
    "\n",
    "- **Another variable of interest is the `member_birth_year`. With this variable I can take a look at the age distribution if trips within the dataset.**"
   ]
  },
  {
   "cell_type": "code",
   "execution_count": null,
   "metadata": {},
   "outputs": [],
   "source": [
    "# writing a function to help extract age from the 'member birth year' variable\n",
    "from datetime import date\n",
    "\n",
    "\n",
    "def extract_age(dates):\n",
    "    today = date.today()\n",
    "    return today.year - dates\n",
    "\n",
    "\n",
    "bikeshare[\"member_age\"] = bikeshare.member_birth_year.map(extract_age)"
   ]
  },
  {
   "cell_type": "code",
   "execution_count": null,
   "metadata": {},
   "outputs": [],
   "source": [
    "plt.figure(figsize=[8, 5])\n",
    "\n",
    "binsize = 5\n",
    "bins = np.arange(0, bikeshare[\"member_age\"].max() + binsize, binsize)\n",
    "\n",
    "plt.hist(data=bikeshare, x=\"member_age\", bins=bins)\n",
    "\n",
    "\n",
    "plt.xlim(20, 70)\n",
    "plt.xlabel(\"Age\")\n",
    "plt.title(\"Member Age Distribution\");"
   ]
  },
  {
   "cell_type": "markdown",
   "metadata": {},
   "source": [
    "Member age distribution comment 1: <span style=\"color:red\">A right-skewed distribution is observed for the age variable with a peak between the ages of 30 to 35.</span>"
   ]
  },
  {
   "cell_type": "markdown",
   "metadata": {},
   "source": [
    "![purple-divider](https://user-images.githubusercontent.com/7065401/52071927-c1cd7100-2562-11e9-908a-dde91ba14e59.png)\n",
    "\n",
    "- Stations should experience more activity in comparison to each other. Patricularly I want to see the busiest stations in reference to start and end trips."
   ]
  },
  {
   "cell_type": "code",
   "execution_count": null,
   "metadata": {},
   "outputs": [],
   "source": [
    "# setting color palette and figure size for the plots\n",
    "base_color = sb.color_palette()[0]\n",
    "plt.figure(figsize=[8, 10])\n",
    "\n",
    "# Creation of plot for top five busiest bike starting stations\n",
    "plt.subplot(2, 1, 1)\n",
    "\n",
    "station_order = bikeshare[\"start_station_name\"].value_counts().iloc[:5].index\n",
    "sb.countplot(\n",
    "    data=bikeshare, y=\"start_station_name\", color=base_color, order=station_order\n",
    ")\n",
    "\n",
    "\n",
    "plt.title(\"Top five busiest start stations\")\n",
    "plt.ylabel(\"Station Name\")\n",
    "\n",
    "# Creation of plot for top five busiest bike starting stations\n",
    "plt.subplot(2, 1, 2)\n",
    "\n",
    "station_order = bikeshare[\"end_station_name\"].value_counts().iloc[:5].index\n",
    "sb.countplot(\n",
    "    data=bikeshare, y=\"end_station_name\", color=base_color, order=station_order\n",
    ")\n",
    "\n",
    "\n",
    "plt.title(\"Top five busiest end stations\")\n",
    "plt.ylabel(\"Station Name\");"
   ]
  },
  {
   "cell_type": "markdown",
   "metadata": {},
   "source": [
    "Busiest stations comment 1: <span style=\"color:red\">The top two busiest end stations are 'San Francisco Caltrain Station 2' and 'Market St at 10th St' with both of them switching postions for the start station. Considering the whole dataset, San Francisco Caltrain Station 2 is busiest bike station. </span>"
   ]
  },
  {
   "cell_type": "markdown",
   "metadata": {},
   "source": [
    "![purple-divider](https://user-images.githubusercontent.com/7065401/52071927-c1cd7100-2562-11e9-908a-dde91ba14e59.png)\n",
    "\n",
    "### Discuss the distribution(s) of your variable(s) of interest. Were there any unusual points? Did you need to perform any transformations?\n",
    "\n",
    "`DRURATION('duration_sec')`\n",
    "- <span style=\"color:blue\">The duration variable initially had large range pof values due to it being in seconds, a conversion to minutes helped me see things a little bit more clearly.</span>\n",
    "- <span style=\"color:blue\">The duration variable followed a long-tialed distribution so I had to perform a log transformation to the 'X' variable for a better drilled-down view of the distribution.</span>\n",
    "\n",
    "`USER CATEGORY('user_type')`\n",
    "- <span style=\"color:blue\">The duration variable followed a long-tialed distribution so I had to perform a log transformation to the 'X' variable for a better drilled-down view of the distribution.</span>\n",
    "\n",
    "`TIME('start_time','end_time')`\n",
    "- <span style=\"color:blue\">Both variables mimic same ditribution pattern. Peak hours are present in both the first and second half of each day with the second half of the day recording the highest percentage trip activity.</span>\n",
    "\n",
    "`GENDER('member_gender')`\n",
    "- <span style=\"color:blue\">This variable followed an expected distrbution flow with 'males' being the predominant gender type.</span>\n",
    "\n",
    "\n",
    "\n",
    "### Of the features you investigated, were there any unusual distributions? Did you perform any operations on the data to tidy, adjust, or change the form of the data? If so, why did you do this?\n",
    "\n",
    "`DRURATION('duration_min')`\n",
    "- <span style=\"color:blue\">The duration variable initially had large range of values due to it being in seconds, a conversion to minutes helped me see things a little bit more clearly. This further helped determine a better bin size to apply.</span>\n",
    "\n",
    "`TIME('start_time','end_time')`\n",
    "- <span style=\"color:blue\">I engineered the `start_time_hr` and `end_time_hr` variables to help visualise the distribution of trips by hours of the day.</span>"
   ]
  },
  {
   "cell_type": "markdown",
   "metadata": {},
   "source": [
    "![purple-divider](https://user-images.githubusercontent.com/7065401/52071927-c1cd7100-2562-11e9-908a-dde91ba14e59.png)\n",
    "## Bivariate Exploration<a id='bi'></a>\n"
   ]
  },
  {
   "cell_type": "markdown",
   "metadata": {},
   "source": [
    "![purple-divider](https://user-images.githubusercontent.com/7065401/52071927-c1cd7100-2562-11e9-908a-dde91ba14e59.png)\n",
    "\n",
    "- **I start my bivariate explorations by exploring the relationship between trip duration and gender category as well as trip duration against user type category**"
   ]
  },
  {
   "cell_type": "code",
   "execution_count": null,
   "metadata": {},
   "outputs": [],
   "source": [
    "# scatter plot of duration vs user type\n",
    "sample = bikeshare[bikeshare[\"duration_min\"] < 70]\n",
    "base_color = sb.color_palette()[0]\n",
    "plt.figure(figsize=[18, 4])\n",
    "\n",
    "# Plot relationship between duration and user category\n",
    "plt.subplot(1, 2, 1)\n",
    "\n",
    "sb.violinplot(\n",
    "    data=sample, x=\"user_type\", y=\"duration_min\", color=base_color, inner=\"quartile\"\n",
    ")\n",
    "\n",
    "\n",
    "plt.xlabel(\"User Type\")\n",
    "plt.ylabel(\"Trip Duration (min)\")\n",
    "plt.title(\"Duration Against User Type\")\n",
    "\n",
    "# Plot relationship between duration and gender type\n",
    "plt.subplot(1, 2, 2)\n",
    "\n",
    "sb.violinplot(\n",
    "    data=sample, x=\"member_gender\", y=\"duration_min\", color=base_color, inner=\"quartile\"\n",
    ")\n",
    "\n",
    "\n",
    "plt.xlabel(\"Gender Type\")\n",
    "plt.ylabel(\"Trip Duration (min)\")\n",
    "plt.title(\"Duration Against Gender Type\");"
   ]
  },
  {
   "cell_type": "markdown",
   "metadata": {},
   "source": [
    ">> <span style=\"color:red\">A majority of the subscriber category members' travel duration fall within the range of 1 to 10 minutes with over 50% falling below 10 minutes. The customer category have slightly over 25% of them with trip durations lower than 10 minutes while the rest fall above the 10 minutes cap. A more spreadout trip duration distribution is obeserved in the customer category type.</span>     \n",
    ">> <span style=\"color:green\">The 'male', 'female' and 'other' gender types show similiar relationships with the trip duration variable regardless of their respective size.</span>  `"
   ]
  },
  {
   "cell_type": "markdown",
   "metadata": {},
   "source": [
    "![purple-divider](https://user-images.githubusercontent.com/7065401/52071927-c1cd7100-2562-11e9-908a-dde91ba14e59.png)\n",
    "\n",
    "- **Next is to inspect the relationship between age distibution and trip duration**"
   ]
  },
  {
   "cell_type": "code",
   "execution_count": null,
   "metadata": {},
   "outputs": [],
   "source": [
    "# Plotting of Trip Duration against age\n",
    "plt.figure(figsize=[8, 6])\n",
    "plt.scatter(data=bikeshare, x=\"member_age\", y=\"duration_min\", alpha=1 / 12)\n",
    "plt.xlabel(\"Age\")\n",
    "plt.xlim(20, 70)\n",
    "\n",
    "plt.ylabel(\"Trip Duration (min)\")\n",
    "plt.title(\"Duration Against User Age\");"
   ]
  },
  {
   "cell_type": "markdown",
   "metadata": {},
   "source": [
    ">> <span style=\"color:red\">A general overview shows that the older age distribution seldom embark on longer trips as opposed to the younger ages. Age group 33 shows the strongest relationship with the most people of this age group embarking on longer trips.</span> "
   ]
  },
  {
   "cell_type": "markdown",
   "metadata": {},
   "source": [
    "![purple-divider](https://user-images.githubusercontent.com/7065401/52071927-c1cd7100-2562-11e9-908a-dde91ba14e59.png)\n",
    "\n",
    "- **Is there a relationship between the trip durations and the hour the day people start their trips or time of the day members end their trips? I will inspect this using the a plot of trip duration against start hour and end hour variables.**"
   ]
  },
  {
   "cell_type": "code",
   "execution_count": null,
   "metadata": {},
   "outputs": [],
   "source": [
    "plt.figure(figsize=[18, 8])\n",
    "\n",
    "\n",
    "# Plot relationship between duration and start time\n",
    "plt.subplot(1, 2, 1)\n",
    "plt.scatter(data=bikeshare, y=\"start_time_hr\", x=\"duration_min\", alpha=1 / 12)\n",
    "plt.ylabel(\"Start Hour\")\n",
    "plt.xlabel(\"Duration (min)\")\n",
    "plt.title(\"Start Hour Against Duration\")\n",
    "\n",
    "# Plot relationship between duration and end time\n",
    "plt.subplot(1, 2, 2)\n",
    "plt.scatter(data=bikeshare, y=\"end_time_hr\", x=\"duration_min\", alpha=1 / 12)\n",
    "plt.ylabel(\"End Hour\")\n",
    "plt.xlabel(\"Duration (min)\")\n",
    "plt.title(\"End Hour Against Duration\");"
   ]
  },
  {
   "cell_type": "markdown",
   "metadata": {},
   "source": [
    ">> <span style=\"color:red\">In reference to the start hour vs duration plot, relationship gets stronger between the hours leading to noon and trip duration. In other words, the closer the time is to 12pm, the more likely that bike trips would start off.</span>      \n",
    ">> <span style=\"color:green\">In reference to the end hour vs duration plot, a stronger relationship is observed with trips that end at later hours of the day. In other words, longer duration trips seldom end at the late hours of the day as opposed to the early hours of the day.</span>"
   ]
  },
  {
   "cell_type": "markdown",
   "metadata": {},
   "source": [
    "![purple-divider](https://user-images.githubusercontent.com/7065401/52071927-c1cd7100-2562-11e9-908a-dde91ba14e59.png)\n",
    "\n",
    "- **Is there a pattern or correlation present between categorical and numeric data types? A Matrx plot of numeric agaist categorical data can show me at a galance.**"
   ]
  },
  {
   "cell_type": "code",
   "execution_count": null,
   "metadata": {},
   "outputs": [],
   "source": [
    "# assigning all variables to their respective data categories\n",
    "\n",
    "numeric_vars = [\"duration_min\", \"member_age\", \"start_time_hr\", \"end_time_hr\"]\n",
    "categoric_vars = [\n",
    "    \"member_gender\",\n",
    "    \"user_type\",\n",
    "]"
   ]
  },
  {
   "cell_type": "code",
   "execution_count": null,
   "metadata": {},
   "outputs": [],
   "source": [
    "# Creating a matrix plot to view numeric against categorical data\n",
    "def boxgrid(x, y, **kwargs):\n",
    "    \"\"\"Quick hack for creating box plots with seaborn's PairGrid.\"\"\"\n",
    "    default_color = sb.color_palette()[0]\n",
    "    sb.boxplot(x=x, y=y, color=default_color)\n",
    "\n",
    "\n",
    "plt.figure(figsize=[15, 10])\n",
    "g = sb.PairGrid(\n",
    "    data=sample,\n",
    "    y_vars=[\"member_age\", \"duration_min\"],\n",
    "    x_vars=categoric_vars,\n",
    "    size=3,\n",
    "    aspect=1.5,\n",
    ")\n",
    "g.map(boxgrid);"
   ]
  },
  {
   "cell_type": "markdown",
   "metadata": {},
   "source": [
    "<span style=\"color:red\">This clearly informs that the average age of all gender and customer category is less that 40 yrs albeit several outliers present in the dataset.</span>  \n",
    "    \n",
    "<span style=\"color:green\"> From the gender point of view, average trip duration is less than 10 minutes albeit several outlier present in the distribution. From the user_type point of view, average trip druation for customer category is over 10 minutes while that od the subscriber category are less than 10 minutes.</span>"
   ]
  },
  {
   "cell_type": "markdown",
   "metadata": {},
   "source": [
    "![purple-divider](https://user-images.githubusercontent.com/7065401/52071927-c1cd7100-2562-11e9-908a-dde91ba14e59.png)\n",
    "\n",
    "### Talk about some of the relationships you observed in this part of the investigation. How did the feature(s) of interest vary with other features in the dataset?\n",
    "\n",
    "`DRURATION('duration_min' Vs 'member_age')`\n",
    "- <span style=\"color:blue\">The relationship between age and trip duration revealed that members of age 33 engaged in more trips as well as longer trip durations. </span>\n",
    "\n",
    "`GENDER('duration_min' Vs 'member_gender')`\n",
    "- <span style=\"color:blue\">Surprisingly, the male gender spend lesser time on thier bike trips in comparison to other gender categories, alibeit being the predominant gender across the dataset. </span>\n",
    "\n",
    "### Did you observe any interesting relationships between the other features (not the main feature(s) of interest)?\n",
    "\n",
    "`START AND END TIME('end_station_hr','start_station_hr' Vs 'duration_min')`\n",
    "- <span style=\"color:blue\">It is quite interesting to see that members mostly start their trip between hours close to 12 pm and another relationship between trip duration and end station time shows a larger number of people end their trips as the day progresses into late night . </span>"
   ]
  },
  {
   "cell_type": "markdown",
   "metadata": {},
   "source": [
    "![purple-divider](https://user-images.githubusercontent.com/7065401/52071927-c1cd7100-2562-11e9-908a-dde91ba14e59.png)\n",
    "## Multivariate Exploration<a id='multi'></a>\n"
   ]
  },
  {
   "cell_type": "code",
   "execution_count": null,
   "metadata": {},
   "outputs": [],
   "source": [
    "# Plotting a stacked barplot for gender category of busiest start stations by trip durations\n",
    "sb.set(rc={\"figure.figsize\": (12, 9)})\n",
    "station_order = sample[\"start_station_name\"].value_counts().iloc[:5].index\n",
    "sb.barplot(\n",
    "    data=sample,\n",
    "    x=\"duration_min\",\n",
    "    y=\"start_station_name\",\n",
    "    hue=\"member_gender\",\n",
    "    order=station_order,\n",
    ")\n",
    "plt.legend()\n",
    "\n",
    "plt.ylabel(\"Start Station Name\")\n",
    "plt.xlabel(\"Duration (min)\")\n",
    "plt.title(\"Gender Activity Across Top 5 Busiest Start Stations\");"
   ]
  },
  {
   "cell_type": "code",
   "execution_count": null,
   "metadata": {},
   "outputs": [],
   "source": [
    "# Plotting a stacked barplot for gender category of busiest end stations by trip durations\n",
    "sb.set(rc={\"figure.figsize\": (12, 9)})\n",
    "station_order = sample[\"end_station_name\"].value_counts().iloc[:5].index\n",
    "sb.barplot(\n",
    "    data=sample,\n",
    "    x=\"duration_min\",\n",
    "    y=\"end_station_name\",\n",
    "    hue=\"member_gender\",\n",
    "    order=station_order,\n",
    ")\n",
    "plt.legend()\n",
    "plt.ylabel(\"End Station Name\")\n",
    "plt.xlabel(\"Duration (min)\")\n",
    "plt.title(\"Gender Activity Across Top 5 Busiest End Stations\");"
   ]
  },
  {
   "cell_type": "markdown",
   "metadata": {},
   "source": [
    "![purple-divider](https://user-images.githubusercontent.com/7065401/52071927-c1cd7100-2562-11e9-908a-dde91ba14e59.png)\n",
    "\n",
    "### Talk about some of the relationships you observed in this part of the investigation. Were there features that strengthened each other in terms of looking at your feature(s) of interest?\n",
    "\n",
    "`TOP_START&END_STATION`\n",
    "- <span style=\"color:blue\">For a majority of the busiest station, whether start or end, the male gender category seem to keep things busy the most.</span>\n",
    "\n",
    "### Were there any interesting or surprising interactions between features?\n",
    "\n",
    "`TOP_START_STATION`\n",
    "- <span style=\"color:blue\"> More male gender type in the dataset doesn't directly interprets to a dominance in all variables, this came as a surprise. Here in the top 5 busiest start stations, it can be seen that the Other gender category keeps the 'San Francisco Caltrain Station 2'  and 'Powell St BART Station (Market St at 4th St) stations the busiest in terms of trip durations at start stations.</span>\n",
    "\n",
    "`TOP_END_STATION`\n",
    "- <span style=\"color:blue\">Similarly, the Other gender category kept 'Market St at 10th St' and 'San Francisco Caltrain Station 2  (Townsend St at 4th St)' stations most busy when it comes to the trip durations recorded for to five end stations as opposed to the male gender category.</span>\n",
    "\n"
   ]
  },
  {
   "cell_type": "markdown",
   "metadata": {},
   "source": [
    "![purple-divider](https://user-images.githubusercontent.com/7065401/52071927-c1cd7100-2562-11e9-908a-dde91ba14e59.png)\n",
    "\n",
    "## Conclusions\n",
    "\n",
    "- <span style=\"color:blue\">Average trip duration for the entire dataset hovers around 10 minutes. Most people start their trips for the day at 8am while evening trips are mostly started at 5pm. A percentage of 75 male gender type dominate the data set and majority (95%)of the bike riders are Subscriber category user types. Over 50% of the Subscriber category users travel less than a total of 10 minutes while the Customer user types record more minutes during bike trips. </span>                                       \n",
    "- <span style=\"color:blue\">Users of age range 32 to 35 ride bikes the most and average age across all categories is below 40yrs.</span>\n",
    "- <span style=\"color:blue\">A surprising outcome is that the Other gender category took longer trips at some of the busiest stations, despite it being of the lowest percentage of gender type present in the dataset.</span>\n"
   ]
  },
  {
   "cell_type": "code",
   "execution_count": null,
   "metadata": {},
   "outputs": [],
   "source": [
    "# Converting my dataframe to a csv for later use such as the presentation slide decks\n",
    "bikeshare.to_csv(\"bike_rides.csv\", index=False, encoding=\"utf-8\")"
   ]
  }
 ],
 "metadata": {
  "kernelspec": {
   "display_name": "Python 3.10.8 64-bit (microsoft store)",
   "language": "python",
   "name": "python3"
  },
  "language_info": {
   "codemirror_mode": {
    "name": "ipython",
    "version": 3
   },
   "file_extension": ".py",
   "mimetype": "text/x-python",
   "name": "python",
   "nbconvert_exporter": "python",
   "pygments_lexer": "ipython3",
   "version": "3.10.8"
  },
  "vscode": {
   "interpreter": {
    "hash": "2c481e7493e2d0aab6e7924b140b67bb8e37375303920cd51cf9237d3bc2b7f5"
   }
  }
 },
 "nbformat": 4,
 "nbformat_minor": 2
}
